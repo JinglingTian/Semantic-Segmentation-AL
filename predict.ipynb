{
 "cells": [
  {
   "cell_type": "code",
   "execution_count": 6,
   "metadata": {},
   "outputs": [],
   "source": [
    "from skimage.io import imread,imsave\n",
    "import numpy as np\n",
    "import torch\n",
    "from tqdm import tqdm\n",
    "from TJL.utils import *\n",
    "import os"
   ]
  },
  {
   "cell_type": "code",
   "execution_count": 8,
   "metadata": {},
   "outputs": [],
   "source": [
    "def segment(model,img_src,k=512,s=512,thread=0.5,device=None,use_clahe=False):\n",
    "    if use_clahe:\n",
    "        img_src = hist_clahe(img_src)\n",
    "    img_src = min_max_norm(img_src)\n",
    "    H_SRC,W_SRC = img_src.shape\n",
    "    H_DST = H_SRC if (H_SRC-k)%s==0 else H_SRC+(s-(H_SRC-k)%s)\n",
    "    W_DST = W_SRC if (W_SRC-k)%s==0 else W_SRC+(s-(W_SRC-k)%s)\n",
    "    H_NUM, W_NUM = (H_DST-k)//s+1, (W_DST-k)//s+1\n",
    "    img_dst = np.zeros((H_DST,W_DST))\n",
    "    img_dst[:H_SRC,:W_SRC] = img_src\n",
    "\n",
    "    batches, has_tar = [],[]\n",
    "    for h in range(H_NUM):\n",
    "        for w in range(W_NUM):\n",
    "            m = img_dst[h*s:h*s+k,w*s:w*s+k]\n",
    "            batches.append(m)\n",
    "            has_tar.append(False if m.sum()==0 else True)\n",
    "    batches = np.array(batches)\n",
    "    has_tar = np.array(has_tar)\n",
    "\n",
    "    preds = []\n",
    "    for m in tqdm(batches[has_tar]):\n",
    "        m = torch.tensor(m).unsqueeze(0).unsqueeze(0).float()\n",
    "        m = m if device is None else m.to(device)\n",
    "        pred,pred_edge = model(m)\n",
    "        pred = pred.detach().cpu().numpy()[0,0]\n",
    "        pred_edge = pred_edge.detach().cpu().numpy()[0,0]\n",
    "        pred[pred>thread]=1\n",
    "        pred[pred<1]=0\n",
    "        preds.append(pred)\n",
    "    preds = np.array(preds)\n",
    "    batches[has_tar] = preds\n",
    "\n",
    "    i=0\n",
    "    img_dst = img_dst*0\n",
    "    for h in range(H_NUM):\n",
    "        for w in range(W_NUM):\n",
    "            img_dst[h*s:h*s+k,w*s:w*s+k] += batches[i]\n",
    "            i+=1\n",
    "    img_dst[img_dst>1]=1\n",
    "    img_dst = img_dst[:H_SRC,:W_SRC]\n",
    "    return img_dst\n",
    "\n",
    "\n",
    "\n",
    "\n",
    "\n"
   ]
  },
  {
   "cell_type": "code",
   "execution_count": null,
   "metadata": {},
   "outputs": [],
   "source": [
    "device = torch.device(\"cuda:0\" if torch.cuda.is_available() else \"cpu\")\n",
    "model = torch.load(\"./model/RAW/model.pth\",map_location=device)\n",
    "\n",
    "\n",
    "\n",
    "img_path = \"./data/sub\"\n",
    "imgs = [os.path.join(img_path,f\"reco_hzb_047_50cycNo2_DischarUp_50cycNo3_DischarDown_a_0005.tif.view{i}.tif\") for i in range(275,411)]\n",
    "\n",
    "for i,f in enumerate(imgs):\n",
    "    img_src = imread(f)\n",
    "    img_dst = segment(model,img_src,k=512,s=256,thread=0.6,device=device)\n",
    "    img_dst[img_dst>0]=2\n",
    "    img_dst[(img_src>50)&(img_dst<2)] = 1\n",
    "    imsave(f\"./result/new/{i+275:04d}.png\",img_dst)"
   ]
  }
 ],
 "metadata": {
  "kernelspec": {
   "display_name": "CV",
   "language": "python",
   "name": "python3"
  },
  "language_info": {
   "codemirror_mode": {
    "name": "ipython",
    "version": 3
   },
   "file_extension": ".py",
   "mimetype": "text/x-python",
   "name": "python",
   "nbconvert_exporter": "python",
   "pygments_lexer": "ipython3",
   "version": "3.9.16"
  }
 },
 "nbformat": 4,
 "nbformat_minor": 2
}
