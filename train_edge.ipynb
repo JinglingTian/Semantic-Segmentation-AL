{
 "cells": [
  {
   "cell_type": "code",
   "execution_count": 1,
   "metadata": {},
   "outputs": [],
   "source": [
    "# 第一批\n",
    "# ! featurize dataset download 94d0bc00-f708-4206-8a34-78a4a29386c7\n",
    "# 第二批\n",
    "# ! featurize dataset download 5d43ecc8-d7cd-40c3-a234-c353f3018ca7"
   ]
  },
  {
   "cell_type": "markdown",
   "metadata": {},
   "source": [
    "### prepare"
   ]
  },
  {
   "cell_type": "code",
   "execution_count": 2,
   "metadata": {},
   "outputs": [],
   "source": [
    "import numpy as np\n",
    "import torch.nn as nn\n",
    "from torch.utils.data import DataLoader\n",
    "from tqdm import tqdm\n",
    "from TJL.data import *\n",
    "from TJL.utils import *\n",
    "from TJL.loss import *\n",
    "from TJL.model import UNet_2DE\n",
    "from TJL.train import Trainer\n",
    "import os\n"
   ]
  },
  {
   "cell_type": "code",
   "execution_count": null,
   "metadata": {},
   "outputs": [],
   "source": [
    "img_path, mask_path = \"./data/raw/raw_sub_1/slice/\", \"./data/raw/raw_sub_1/mask/\"\n",
    "img_list, mask_list = [os.path.join(img_path,f) for f in os.listdir(img_path)], [os.path.join(mask_path,f) for f in os.listdir(mask_path)]\n",
    "img_list.sort()\n",
    "mask_list.sort()\n",
    "train_set = MyDataset(img_list[:-20],mask_list[:-20],(256,256))\n",
    "val_set = MyDataset(img_list[-20:],mask_list[-20:],(256,256))\n",
    "\n",
    "\n",
    "# img_path, mask_path = \"./data/raw/raw_sub_1/slice/\", \"./data/raw/raw_sub_1/slice/\"\n",
    "# img_list, mask_list = [os.path.join(img_path,f) for f in os.listdir(img_path)][-200:], [os.path.join(mask_path,f) for f in os.listdir(mask_path)][-200:]\n",
    "# img_list.sort()\n",
    "# mask_list.sort()\n",
    "# test_set = MyDataset(img_list,mask_list,use_clahe=True)\n",
    "\n",
    "\n",
    "train_loader = DataLoader(train_set,4)\n",
    "val_loader = DataLoader(val_set,1)\n",
    "# test_loader = DataLoader(test_set,1)\n",
    "\n",
    "img,mask,edge = next(iter(train_loader))\n",
    "# imshow([img[0,0].numpy(),mask[0,0].numpy()])\n",
    "img.shape,mask.shape,edge.shape\n",
    "\n",
    "\n"
   ]
  },
  {
   "cell_type": "markdown",
   "metadata": {},
   "source": [
    "### Train"
   ]
  },
  {
   "cell_type": "code",
   "execution_count": 4,
   "metadata": {},
   "outputs": [],
   "source": [
    "class Edge_Trainer(Trainer):\n",
    "    def __init__(self, model, optim, loss_func, save_path, device, scheduler=None):\n",
    "        super().__init__(model, optim, loss_func, save_path, device, scheduler)\n",
    "    def train_one_epoch(self, train_loader):\n",
    "        self.model.train()\n",
    "        loss_list = []\n",
    "        for imgs,label,edge in tqdm(train_loader):\n",
    "            imgs = imgs.to(self.device)\n",
    "            label = label.to(self.device)\n",
    "            edge = edge.to(self.device)\n",
    "\n",
    "            pred,pred_edge = self.model(imgs)\n",
    "            loss = self.loss_func(pred,pred_edge,label,edge)\n",
    "\n",
    "            self.optim.zero_grad()\n",
    "            loss.backward()\n",
    "            self.optim.step()\n",
    "            loss_list.append(loss.item())\n",
    "        return np.mean(loss_list)\n",
    "\n",
    "    def val_one_epoch(self,val_loader):\n",
    "        self.model.eval()\n",
    "        loss_list = []\n",
    "        for imgs,label,edge in tqdm(val_loader):\n",
    "            imgs = imgs.to(self.device)\n",
    "            label = label.to(self.device)\n",
    "            edge = edge.to(self.device)\n",
    "\n",
    "            pred,pred_edge = self.model(imgs)\n",
    "            loss = self.loss_func(pred,pred_edge,label,edge)\n",
    "            loss_list.append(loss.item())\n",
    "        return np.mean(loss_list)\n"
   ]
  },
  {
   "cell_type": "code",
   "execution_count": null,
   "metadata": {},
   "outputs": [],
   "source": [
    "device = torch.device(\"cuda:0\"if torch.cuda.is_available()else\"cpu\")\n",
    "model = UNet_2DE(in_ch=1)\n",
    "optim = torch.optim.Adam(model.parameters(),lr=3e-4)\n",
    "scheduler = torch.optim.lr_scheduler.CosineAnnealingLR(optim,T_max=50)\n",
    "loss_function = BCELoss()\n",
    "trainer = Edge_Trainer(model,optim,loss_function,\"./model/RAW/\",device,scheduler=scheduler)\n",
    "trainer.train(train_loader,val_loader,100,10)"
   ]
  },
  {
   "cell_type": "markdown",
   "metadata": {},
   "source": [
    "### Val"
   ]
  },
  {
   "cell_type": "code",
   "execution_count": 6,
   "metadata": {},
   "outputs": [],
   "source": [
    "model_path = \"./model/RAW/model.pth\""
   ]
  },
  {
   "cell_type": "code",
   "execution_count": null,
   "metadata": {},
   "outputs": [],
   "source": [
    "# 评价指标\n",
    "device = torch.device(\"cuda:0\"if torch.cuda.is_available()else\"cpu\")\n",
    "model = torch.load(model_path,map_location=device)\n",
    "model.eval()\n",
    "pre_list = []\n",
    "acc_list = []\n",
    "iou_list = []\n",
    "dice_list = []\n",
    "recall_list = []\n",
    "iou_min = np.inf\n",
    "iou_min_bach = None\n",
    "iou_min_index = None\n",
    "index = 0\n",
    "\n",
    "thread = 0.5\n",
    "for imgs,label,edge in tqdm(val_loader):\n",
    "    imgs = imgs.to(device)\n",
    "    label = label.to(device)\n",
    "\n",
    "    pred,pred_edge = model(imgs)\n",
    "\n",
    "    pred[pred>thread]=1\n",
    "    pred[pred<1]=0\n",
    "    pre_list.append(get_pre(pred.cpu(),label.cpu()))\n",
    "    acc_list.append(get_acc(pred.cpu(),label.cpu()))\n",
    "    iou_list.append(get_miou(pred.cpu(),label.cpu()))\n",
    "    dice_list.append(get_dice(pred.cpu(),label.cpu()))\n",
    "    recall_list.append(get_recall(pred.cpu(),label.cpu()))\n",
    "\n",
    "    miou = get_miou(pred.cpu(),label.cpu())\n",
    "    if miou<iou_min:\n",
    "        iou_min = miou\n",
    "        iou_min_bach = (imgs,label,pred)\n",
    "        iou_min_index = index\n",
    "    index+=1\n",
    "\n",
    "pre,acc,iou,dice,recall = np.mean(pre_list),np.mean(acc_list),np.mean(iou_list),np.mean(dice_list),np.mean(recall_list)\n",
    "print(f\"test_set:\\tpre:{pre:.3f}\\tacc:{acc:.3f}\\tdice:{dice:.3f}\\tiou:{iou:.3f}\\trecall:{recall:.3f}\")"
   ]
  },
  {
   "cell_type": "code",
   "execution_count": null,
   "metadata": {},
   "outputs": [],
   "source": []
  }
 ],
 "metadata": {
  "kernelspec": {
   "display_name": "CV",
   "language": "python",
   "name": "python3"
  },
  "language_info": {
   "codemirror_mode": {
    "name": "ipython",
    "version": 3
   },
   "file_extension": ".py",
   "mimetype": "text/x-python",
   "name": "python",
   "nbconvert_exporter": "python",
   "pygments_lexer": "ipython3",
   "version": "3.9.16"
  }
 },
 "nbformat": 4,
 "nbformat_minor": 2
}
